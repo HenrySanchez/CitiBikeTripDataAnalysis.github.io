{
 "cells": [
  {
   "cell_type": "code",
   "execution_count": 1,
   "metadata": {},
   "outputs": [],
   "source": [
    "import pandas as pd\n",
    "import os\n",
    "import glob\n",
    "import matplotlib.pyplot as plt\n",
    "from datetime import date\n",
    "import seaborn as sns\n",
    "import calendar\n",
    "os.chdir(r\"C:\\Users\\Henry\\Desktop\\Project2_HtmlSite\\bike trip data csv\")"
   ]
  },
  {
   "cell_type": "code",
   "execution_count": 2,
   "metadata": {},
   "outputs": [],
   "source": [
    "#Match the pattern (‘csv’) and save the list of file names in the ‘all_filenames’ variable. \n",
    "extension = 'csv'\n",
    "all_filenames = [i for i in glob.glob('*.{}'.format(extension))]"
   ]
  },
  {
   "cell_type": "code",
   "execution_count": 3,
   "metadata": {},
   "outputs": [],
   "source": [
    "#combine all files in the list\n",
    "combined_csv = pd.concat([pd.read_csv(f) for f in all_filenames ])\n",
    "#export to csv\n",
    "combined_csv.to_csv( \"combined_csv.csv\", index=False, encoding='utf-8-sig')"
   ]
  },
  {
   "cell_type": "code",
   "execution_count": null,
   "metadata": {},
   "outputs": [],
   "source": [
    "# Make a reference to the file path\n",
    "csv_path = \"combined_csv.csv\"\n",
    "\n",
    "# Import the combined_csv file as a DataFrame\n",
    "citibike_df = pd.read_csv(csv_path, encoding=\"utf-8\")\n",
    "citibike_df.head()"
   ]
  },
  {
   "cell_type": "code",
   "execution_count": null,
   "metadata": {},
   "outputs": [],
   "source": [
    "# Select Relevant Columns in new dataframe\n",
    "citibike = citibike_df[['tripduration', 'starttime','stoptime', 'start station latitude', 'start station longitude', \n",
    "                                                 'usertype', 'birth year', 'gender']].copy()\n",
    "citibike.head()"
   ]
  },
  {
   "cell_type": "code",
   "execution_count": null,
   "metadata": {},
   "outputs": [],
   "source": [
    "#Change gender to Unknown (0), Male (1), Female (2) - Per Citibike Data\n",
    "citibike['gender'].replace([0,1,2],['Unknown','Male','Female'],inplace=True)\n",
    "# # convert tripduration from seconds to minutes\n",
    "# citibike['tripduration'] = (citibike['tripduration'] / 60).round(2)\n",
    "#subtract birth year by 2019 to ascertain age of rider\n",
    "citibike['birth year'] = citibike['birth year'] - 2019\n",
    "citibike.head()"
   ]
  },
  {
   "cell_type": "code",
   "execution_count": null,
   "metadata": {},
   "outputs": [],
   "source": [
    "#convert birth year negative numbers into positive numbers\n",
    "citibike['birth year2'] = citibike['birth year']*-1\n",
    "citibike.head()"
   ]
  },
  {
   "cell_type": "code",
   "execution_count": null,
   "metadata": {},
   "outputs": [],
   "source": [
    "#Change StartTime to Year and Time Column and Month to Month Column\n",
    "citibike['starttime'] = pd.to_datetime(citibike['starttime'])\n",
    "citibike['stoptime'] = pd.to_datetime(citibike['stoptime'])\n",
    "citibike.head()"
   ]
  },
  {
   "cell_type": "code",
   "execution_count": null,
   "metadata": {},
   "outputs": [],
   "source": [
    "# Rename comlumns\n",
    "citibike2 = citibike.rename(columns={'birth year2': 'age'})\n",
    "citibike2.head()"
   ]
  },
  {
   "cell_type": "code",
   "execution_count": null,
   "metadata": {
    "scrolled": true
   },
   "outputs": [],
   "source": [
    "#Extract Month, Day of the Week, Time from startime column and stoptime column and drop birth year\n",
    "citibike2 = citibike2[['tripduration', 'starttime','start station latitude', 'start station longitude', \n",
    "                                                 'usertype', 'gender', 'age']].copy()\n",
    "citibike2.head()"
   ]
  },
  {
   "cell_type": "code",
   "execution_count": null,
   "metadata": {},
   "outputs": [],
   "source": [
    "#Remove all A\n",
    "citibike_final = citibike2.loc[citibike2[\"age\"] < 100]\n",
    "citibike_final.head()"
   ]
  },
  {
   "cell_type": "code",
   "execution_count": null,
   "metadata": {},
   "outputs": [],
   "source": [
    "citibike_final['starttime'] = pd.to_datetime(citibike_final['starttime'])\n",
    "citibike_final.head()"
   ]
  },
  {
   "cell_type": "code",
   "execution_count": null,
   "metadata": {},
   "outputs": [],
   "source": [
    "#Add Year to Year Column and Month to Month Column\n",
    "citibike2['starttime - Day'] = citibike2['starttime'].dt.day\n",
    "citibike2['starttime - Month'] = citibike2['starttime'].dt.month_name()\n",
    "citibike2['starttime - Time'] = citibike2['starttime'].dt.time\n",
    "citibike2['starttime - Weekday'] = citibike2['starttime'].dt.weekday\n",
    "citibike2.head()"
   ]
  },
  {
   "cell_type": "code",
   "execution_count": null,
   "metadata": {},
   "outputs": [],
   "source": [
    "#Replace Weekday Numbers with Days of the Week\n",
    "citibike2['starttime - Weekday'].replace([0,1,2,3,4,5,6],['Monday','Tuesday','Wednesday','Thursday','Friday','Saturday','Sunday'],inplace=True)\n",
    "citibike2.head()"
   ]
  },
  {
   "cell_type": "code",
   "execution_count": null,
   "metadata": {
    "scrolled": true
   },
   "outputs": [],
   "source": [
    "#Drop Starttime and Stoptime Columns\n",
    "citibike2.drop(columns=[\"starttime\"], inplace=True)\n",
    "citibike2.head()"
   ]
  },
  {
   "cell_type": "code",
   "execution_count": null,
   "metadata": {},
   "outputs": [],
   "source": [
    "#Value Count of Starttime - Weekday Trips\n",
    "weekdaytrips_df = citibike2['starttime - Weekday'].value_counts().reset_index().rename(columns={'index': 'Weekday', \"starttime - Weekday\": 'Count'})\n",
    "weekdaytrips_df[\"Weekday Number\"] = (2, 1, 4, 3, 0, 5, 6)\n",
    "weekdaytrips_df = weekdaytrips_df.sort_values('Weekday Number',ascending=True)\n",
    "weekdaytrips_df"
   ]
  },
  {
   "cell_type": "code",
   "execution_count": null,
   "metadata": {},
   "outputs": [],
   "source": [
    "#Bar Graph for Monthly Trips\n",
    "weekdaytrips_df.plot.bar(x= 'Weekday', y = 'Count')\n",
    "plt.rcParams['figure.figsize'] = (10,6)\n",
    "plt.xlabel('Month', fontweight=\"bold\", fontsize=16)\n",
    "plt.ylabel('Count', fontweight=\"bold\", fontsize=16)\n",
    "plt.title('Total Weekday Bike Trips', fontweight=\"bold\", fontsize=20)\n",
    "plt.bar\n",
    "fig1 = plt.gcf()"
   ]
  },
  {
   "cell_type": "code",
   "execution_count": null,
   "metadata": {},
   "outputs": [],
   "source": [
    "#Save Image of Graph\n",
    "fig1.savefig(\"./Images/WeekdayCount.png\")"
   ]
  },
  {
   "cell_type": "code",
   "execution_count": null,
   "metadata": {},
   "outputs": [],
   "source": [
    "#Value Count of Starttime - Weekday Trips\n",
    "monthlytrips_df = citibike2['starttime - Month'].value_counts().reset_index().rename(columns={'index': 'Month', \"starttime - Month\": 'Count'})\n",
    "monthlytrips_df[\"Month Number\"] = (7,6,5,4,3,1,2)\n",
    "monthlytrips_df = monthlytrips_df.sort_values('Month Number',ascending=True)\n",
    "monthlytrips_df"
   ]
  },
  {
   "cell_type": "code",
   "execution_count": null,
   "metadata": {},
   "outputs": [],
   "source": [
    "#Bar Graph for Monthly Trips\n",
    "monthlytrips_df.plot.bar(x= 'Month', y = 'Count', color=\"r\")\n",
    "plt.rcParams['figure.figsize'] = (10,6)\n",
    "plt.ylabel('Count', fontweight=\"bold\", fontsize=16)\n",
    "plt.xlabel('Month', fontweight=\"bold\", fontsize=16)\n",
    "plt.title('Total Monthly Bike Trips', fontweight=\"bold\", fontsize=20)\n",
    "plt.bar\n",
    "fig1 = plt.gcf()"
   ]
  },
  {
   "cell_type": "code",
   "execution_count": null,
   "metadata": {},
   "outputs": [],
   "source": [
    "#Save Image of Graph\n",
    "fig1.savefig(\"./Images/MonthlyBikeTrips.png\")"
   ]
  },
  {
   "cell_type": "code",
   "execution_count": null,
   "metadata": {},
   "outputs": [],
   "source": [
    "#Gender\n",
    "gender_df = citibike2[\"gender\"].value_counts().reset_index().rename(columns={'index': 'Gender', \"Gender\": 'Count'})\n",
    "gender_df.head()"
   ]
  },
  {
   "cell_type": "code",
   "execution_count": null,
   "metadata": {},
   "outputs": [],
   "source": [
    "#Creat Pie Graph for Male, Femal, Unknown\n",
    "# Labels for the sections of our pie chart\n",
    "labels = [\"Male\", \"Female\", \"Unknown\",]\n",
    "\n",
    "# Pie Chart Values\n",
    "sizes = [7745742, 2646723, 843617]\n",
    "\n",
    "# The colors of each section of the pie chart\n",
    "colors = [\"#66b3ff\", \"#ff9999\", \"#99ff99\"]\n",
    "\n",
    "# Tells matplotlib to seperate the \"Python\" section from the others\n",
    "explode = (0, .1,.19)"
   ]
  },
  {
   "cell_type": "code",
   "execution_count": null,
   "metadata": {},
   "outputs": [],
   "source": [
    "# Creates the pie chart based upon the values above\n",
    "# Automatically finds the percentages of each part of the pie chart\n",
    "plt.pie(sizes, explode=explode, labels=labels, colors=colors,\n",
    "        autopct=\"%1.1f%%\", shadow=True, startangle=200)\n",
    "plt.title(\"Total Fatalities Sorted By Gender\", fontweight=\"bold\", fontsize=20)\n",
    "# Create axes which are equal so we have a perfect circle\n",
    "plt.axis(\"equal\")\n",
    "fig5 = plt.gcf()"
   ]
  },
  {
   "cell_type": "code",
   "execution_count": null,
   "metadata": {},
   "outputs": [],
   "source": [
    "#Save Image of Graph\n",
    "fig1.savefig(\"./Images/TotalFatalitiesSortedbyGender.png\")"
   ]
  },
  {
   "cell_type": "code",
   "execution_count": null,
   "metadata": {},
   "outputs": [],
   "source": [
    "agecheck = citibike.loc[citibike[\"birth year2\"] < 100]\n",
    "agecheck.head()"
   ]
  },
  {
   "cell_type": "code",
   "execution_count": null,
   "metadata": {},
   "outputs": [],
   "source": []
  }
 ],
 "metadata": {
  "kernelspec": {
   "display_name": "Python 3",
   "language": "python",
   "name": "python3"
  },
  "language_info": {
   "codemirror_mode": {
    "name": "ipython",
    "version": 3
   },
   "file_extension": ".py",
   "mimetype": "text/x-python",
   "name": "python",
   "nbconvert_exporter": "python",
   "pygments_lexer": "ipython3",
   "version": "3.7.3"
  }
 },
 "nbformat": 4,
 "nbformat_minor": 2
}
